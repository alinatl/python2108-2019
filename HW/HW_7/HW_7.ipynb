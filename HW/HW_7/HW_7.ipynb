{
 "cells": [
  {
   "cell_type": "code",
   "execution_count": 1,
   "metadata": {
    "colab": {
     "base_uri": "https://localhost:8080/",
     "height": 274
    },
    "colab_type": "code",
    "collapsed": false,
    "executionInfo": {
     "elapsed": 11154,
     "status": "ok",
     "timestamp": 1559531376794,
     "user": {
      "displayName": "Nikita Igolnikov",
      "photoUrl": "",
      "userId": "11245258636627725090"
     },
     "user_tz": -420
    },
    "id": "mDEYxTdRXIAG",
    "outputId": "cd6ff15d-780e-4b1d-b58d-19b8e7189eb6"
   },
   "outputs": [
    {
     "name": "stdout",
     "output_type": "stream",
     "text": [
      "Requirement already satisfied: networkx in c:\\users\\user\\anaconda3\\lib\\site-packages (2.3)\n",
      "Requirement already satisfied: decorator>=4.3.0 in c:\\users\\user\\anaconda3\\lib\\site-packages (from networkx) (4.4.0)\n",
      "Requirement already up-to-date: networkx in c:\\users\\user\\anaconda3\\lib\\site-packages (2.3)\n",
      "Requirement already satisfied, skipping upgrade: decorator>=4.3.0 in c:\\users\\user\\anaconda3\\lib\\site-packages (from networkx) (4.4.0)\n",
      "Name: networkx\n",
      "Version: 2.3\n",
      "Summary: Python package for creating and manipulating graphs and networks\n",
      "Home-page: http://networkx.github.io/\n",
      "Author: NetworkX Developers\n",
      "Author-email: networkx-discuss@googlegroups.com\n",
      "License: BSD\n",
      "Location: c:\\users\\user\\anaconda3\\lib\\site-packages\n",
      "Requires: decorator\n",
      "Required-by: scikit-image, odo\n"
     ]
    }
   ],
   "source": [
    "!pip install networkx\n",
    "!pip install --upgrade networkx\n",
    "!pip show networkx\n"
   ]
  },
  {
   "cell_type": "code",
   "execution_count": 2,
   "metadata": {
    "colab": {},
    "colab_type": "code",
    "collapsed": false,
    "id": "CJwNmiQaXIAP"
   },
   "outputs": [
    {
     "name": "stderr",
     "output_type": "stream",
     "text": [
      "C:\\Users\\User\\Anaconda3\\lib\\site-packages\\gensim\\utils.py:1197: UserWarning: detected Windows; aliasing chunkize to chunkize_serial\n",
      "  warnings.warn(\"detected Windows; aliasing chunkize to chunkize_serial\")\n"
     ]
    }
   ],
   "source": [
    "import re\n",
    "import gensim\n",
    "import logging\n",
    "import pandas as pd\n",
    "import urllib.request\n",
    "from gensim.models import word2vec\n",
    "import matplotlib.pyplot as plt\n",
    "from matplotlib import style\n",
    "import networkx as nx\n",
    "from networkx.algorithms import community\n",
    "from networkx.algorithms.community.centrality import girvan_newman\n"
   ]
  },
  {
   "cell_type": "code",
   "execution_count": 3,
   "metadata": {
    "colab": {
     "base_uri": "https://localhost:8080/",
     "height": 54
    },
    "colab_type": "code",
    "collapsed": false,
    "executionInfo": {
     "elapsed": 26135,
     "status": "ok",
     "timestamp": 1559531394327,
     "user": {
      "displayName": "Nikita Igolnikov",
      "photoUrl": "",
      "userId": "11245258636627725090"
     },
     "user_tz": -420
    },
    "id": "8h9CSykkXIAU",
    "outputId": "0477acac-0928-4e75-99d7-923f89a724da"
   },
   "outputs": [
    {
     "data": {
      "text/plain": [
       "('ruscorpora_mystem_cbow_300_2_2015.bin.gz',\n",
       " <http.client.HTTPMessage at 0x171b0606cf8>)"
      ]
     },
     "execution_count": 3,
     "metadata": {},
     "output_type": "execute_result"
    }
   ],
   "source": [
    "urllib.request.urlretrieve(\"http://rusvectores.org/static/\" + \n",
    "                           \"models/rusvectores2/ruscorpora\" + \n",
    "                           \"_mystem_cbow_300_2_2015.bin.gz\",\n",
    "                           \"ruscorpora_mystem_cbow_300_2_\" + \n",
    "                           \"2015.bin.gz\")\n"
   ]
  },
  {
   "cell_type": "code",
   "execution_count": 4,
   "metadata": {
    "colab": {},
    "colab_type": "code",
    "collapsed": true,
    "id": "GAPSxu1uXIAX"
   },
   "outputs": [],
   "source": [
    "m = 'ruscorpora_mystem_cbow_300_2_2015.bin.gz'\n",
    "\n",
    "if m.endswith('.vec.gz'):\n",
    "    model = gensim.models.KeyedVectors.\\\n",
    "        load_word2vec_format(m, binary=False)\n",
    "elif m.endswith('.bin.gz'):\n",
    "    model = gensim.models.KeyedVectors.\\\n",
    "        load_word2vec_format(m, binary=True)\n",
    "else:\n",
    "    model = gensim.models.KeyedVectors.load(m)\n"
   ]
  },
  {
   "cell_type": "code",
   "execution_count": 5,
   "metadata": {
    "colab": {},
    "colab_type": "code",
    "collapsed": true,
    "id": "KNbxYxqZXIAb",
    "scrolled": true
   },
   "outputs": [],
   "source": [
    "def inp_W():\n",
    "    words = str(input('введите 1 слово.чтобы ' + \n",
    "                      'закончить сеанс нажмите 0 '))\n",
    "    words = words.lower()\n",
    "\n",
    "    words = words + '_S'\n",
    "    wordlist = []\n",
    "    wordlist.append(words)\n",
    "    gra = []\n",
    "    G = nx.Graph()\n",
    "    nodes_list = []\n",
    "\n",
    "\n",
    "    for word in wordlist:\n",
    "\n",
    "        if word in model:\n",
    "            #print(word)\n",
    "            # смотрим на вектор слова (его размерность 300,\n",
    "            # смотрим на первые 10 чисел)\n",
    "            #print(model[word][:10])\n",
    "            # выдаем 20 ближайших соседей слова:\n",
    "            for i in model.most_similar(positive=[word],\n",
    "                                        topn = 10):\n",
    "                if i[1]  >= 0.5 and re.findall(r'\\w_S',\n",
    "                                               i[0]):\n",
    "                    gra.append(i[0])\n",
    "                    nodes_list.append(i[0])\n",
    "\n",
    "                    #print(i)\n",
    "                    for val in gra:\n",
    "\n",
    "                        #print(val[0], val[1])\n",
    "\n",
    "                        G.add_node(val)\n",
    "                        # соединаем слово и \n",
    "                        # три его соседа связями\n",
    "                        G.add_edge(words, val)\n",
    "                        #print([n for n in G.neighbors(val[0])])\n",
    "                    #print('узлы', G.nodes())\n",
    "                    #print('ребра', G.edges())\n",
    "\n",
    "                # слово + коэффициент косинусной близости\n",
    "                #print(i[0], i[1])\n",
    "                #print('\\n')\n",
    "            return '1', nodes_list, gra, words, G\n",
    "                \n",
    "        else:\n",
    "            # Увы!\n",
    "            print('Увы, слова \"%s\" нет в модели!' % word)\n",
    "            return '2', nodes_list, gra, words, G\n",
    "\n",
    "    #print('nodes_list', nodes_list)\n",
    "    #print(gra)\n"
   ]
  },
  {
   "cell_type": "code",
   "execution_count": 6,
   "metadata": {
    "colab": {},
    "colab_type": "code",
    "collapsed": true,
    "id": "IxJz6_HCXIAe"
   },
   "outputs": [],
   "source": [
    "def sosedi(nodes_list, G):\n",
    "    node_list = []\n",
    "    #print(nodes_list)\n",
    "\n",
    "    for word in nodes_list:\n",
    "        list_n = []\n",
    "        if word in model:\n",
    "            #print(word)\n",
    "            # смотрим на вектор слова (его размерность 300,\n",
    "            #                          смотрим на первые 10 чисел)\n",
    "            #print(model[word][:10])\n",
    "\n",
    "            # выдаем 20 ближайших соседей слова:\n",
    "            for i in model.most_similar(positive=[word], topn = 20):\n",
    "                #print(i)\n",
    "                if i[1]  >= 0.5 and re.findall(r'\\w_S', i[0]):\n",
    "                    words = word\n",
    "                    G.add_node(i[0])\n",
    "                    # соединаем слово и три его соседа связями\n",
    "                    G.add_edge(words, i[0])\n",
    "                    #print('words-word', word)\n",
    "            #list_n.append(i[0])\n",
    "            #print('list_n', list_n)\n",
    "            #print('ребра', G.edges())\n",
    "            #print('\\n')\n",
    "\n",
    "            #node_list.append(list_n)\n",
    "            #print('node_list', node_list)\n",
    "            #return node_list\n",
    "        else:\n",
    "            # Увы!\n",
    "            print('Увы, слова \"%s\" нет в модели!' % word) \n",
    "\n",
    "   # print('узлы', G.nodes())\n",
    "   # print('ребра', G.edges())\n",
    "   # list1, list2, list3 = node_list           \n",
    "   # print(list1, list2, list3)\n"
   ]
  },
  {
   "cell_type": "code",
   "execution_count": 7,
   "metadata": {
    "colab": {},
    "colab_type": "code",
    "collapsed": true,
    "id": "hoQzOqn7XIAh"
   },
   "outputs": [],
   "source": [
    "def deg(G):\n",
    "    deg = nx.degree_centrality(G)\n",
    "    print('далее список слов в порядке убывания показателя',\n",
    "          'degree_centrality')\n",
    "    for nodeid in sorted(deg, key=deg.get, reverse=True):\n",
    "        print (nodeid)\n",
    "        \n",
    "    return deg\n"
   ]
  },
  {
   "cell_type": "code",
   "execution_count": 8,
   "metadata": {
    "colab": {},
    "colab_type": "code",
    "collapsed": true,
    "id": "STpXi_ZYXIAm"
   },
   "outputs": [],
   "source": [
    "def clos(G):\n",
    "    clos = nx.closeness_centrality(G, u=None,\n",
    "                                       distance=None)\n",
    "    print('далее список слов в порядке убывания показателя',\n",
    "          'closeness_centrality')\n",
    "    for nodei in sorted(clos, key=clos.get, reverse=True):\n",
    "        print(nodei)\n",
    "    return clos\n"
   ]
  },
  {
   "cell_type": "code",
   "execution_count": 9,
   "metadata": {
    "colab": {},
    "colab_type": "code",
    "collapsed": true,
    "id": "Tp1oIISCXIAs",
    "scrolled": true
   },
   "outputs": [],
   "source": [
    "def bet(G):\n",
    "    bet = nx.betweenness_centrality(G, k=None,\n",
    "                                    normalized=True,\n",
    "                                    weight=None,\n",
    "                                    endpoints=False,\n",
    "                                    seed=None)\n",
    "    print('далее список слов в порядке убывания показателя',\n",
    "          'betweenness_centrality')\n",
    "    for node in sorted(bet, key=bet.get, reverse=True):\n",
    "        print(node)\n",
    "    return bet\n"
   ]
  },
  {
   "cell_type": "code",
   "execution_count": 10,
   "metadata": {
    "colab": {},
    "colab_type": "code",
    "collapsed": true,
    "id": "kOxODjMVXIAz"
   },
   "outputs": [],
   "source": [
    "def eig(G):\n",
    "    eig = nx.eigenvector_centrality(G, max_iter=100, tol=1e-06,\n",
    "                                    nstart=None, weight=None)\n",
    "    print('далее список слов в порядке убывания показателя',\n",
    "          'eigenvector_centrality')\n",
    "    for nod in sorted(eig, key=eig.get, reverse=True):\n",
    "        print(nod)\n",
    "    return eig\n"
   ]
  },
  {
   "cell_type": "code",
   "execution_count": 11,
   "metadata": {
    "colab": {},
    "colab_type": "code",
    "collapsed": true,
    "id": "y8wteDGlXIA4"
   },
   "outputs": [],
   "source": [
    "def dia(G):\n",
    "    print('Диаметр графа, самый длинный путь' + \n",
    "          'от одной вершины до другой: ',\n",
    "          nx.diameter(G))\n",
    "\n",
    "    print('Коэффициент ассортативности (насколько вся сеть',\n",
    "          ' завязана на основных \"хабах\": )',\n",
    "          nx.degree_pearson_correlation_coefficient(G))\n",
    "\n",
    "    print('Плотность графа, отношение рёбер и узлов: ',\n",
    "          nx.density(G))\n",
    "\n",
    "    print('вот какой коэффициент у нашего графа: ',\n",
    "          nx.average_clustering(G))\n",
    "    #print(nx.transitivity(G))\n"
   ]
  },
  {
   "cell_type": "code",
   "execution_count": 12,
   "metadata": {
    "colab": {},
    "colab_type": "code",
    "collapsed": true,
    "id": "-9QiWQ8HXIA9",
    "scrolled": true
   },
   "outputs": [],
   "source": [
    "def nodecolor(G):\n",
    "    import networkx as nx\n",
    "    from networkx.algorithms import community\n",
    "    communities_generator = girvan_newman(G)\n",
    "    top_level_communities = next(communities_generator)\n",
    "    next_level_communities = next(communities_generator)\n",
    "    #sorted(map(sorted, next_level_communities))\n",
    "    next_level_communities = list(next_level_communities)\n",
    "    a1, a2, a3 = next_level_communities\n",
    "    a1 = list(a1) \n",
    "    a2 = list(a2) \n",
    "    a3 = list(a3)\n",
    "    #print( a1, a2 ,a3)\n",
    "    return a1, a2, a3\n"
   ]
  },
  {
   "cell_type": "code",
   "execution_count": 13,
   "metadata": {
    "colab": {},
    "colab_type": "code",
    "collapsed": true,
    "id": "x0MA2rP_XIBH"
   },
   "outputs": [],
   "source": [
    "def color(i, G):\n",
    "    next_level_communities = nodecolor(G)\n",
    "    next_level_communities = list(next_level_communities)\n",
    "    a1, a2, a3 = next_level_communities\n",
    "    a1 = list(a1) \n",
    "    a2 = list(a2) \n",
    "    a3 = list(a3)\n",
    "    if i in a1:\n",
    "        return 'red'\n",
    "    elif i in a2:\n",
    "        return 'yellow'\n",
    "    elif i in a3:\n",
    "        return 'blue'\n",
    "#color('барбос_S')\n"
   ]
  },
  {
   "cell_type": "code",
   "execution_count": 14,
   "metadata": {
    "colab": {},
    "colab_type": "code",
    "collapsed": true,
    "id": "15Gf-vCEXIBE"
   },
   "outputs": [],
   "source": [
    "def size(word, G):\n",
    "    deg = nx.degree_centrality(G)\n",
    "    k = deg[word]\n",
    "    #print(k)\n",
    "    if k <= 0.03:\n",
    "        return 90\n",
    "    elif k > 0.03 and k < 0.06:\n",
    "        return 150\n",
    "    else:\n",
    "        return 220\n",
    "\n",
    "#size('барбос_S', G)\n"
   ]
  },
  {
   "cell_type": "code",
   "execution_count": 15,
   "metadata": {
    "colab": {},
    "colab_type": "code",
    "collapsed": true,
    "id": "GYyTwv7h33iR"
   },
   "outputs": [],
   "source": [
    "def word(G):\n",
    "    for word in G.nodes:\n",
    "        li = []\n",
    "        li.append(i)\n",
    "    return word, li\n"
   ]
  },
  {
   "cell_type": "code",
   "execution_count": null,
   "metadata": {
    "colab": {},
    "colab_type": "code",
    "collapsed": true,
    "id": "9B4KVVkGXIBL"
   },
   "outputs": [],
   "source": [
    "def paint(G, color, size, li):\n",
    "    style.use('ggplot') \n",
    "    pos=nx.spring_layout(G)\n",
    "    nx.draw_networkx_nodes(G, pos, nodelist = li,\n",
    "                           node_color = color(word, G),\n",
    "                           node_size = size(word, deg(G)))\n"
   ]
  },
  {
   "cell_type": "code",
   "execution_count": null,
   "metadata": {
    "colab": {
     "base_uri": "https://localhost:8080/",
     "height": 6090
    },
    "colab_type": "code",
    "collapsed": false,
    "executionInfo": {
     "elapsed": 47770,
     "status": "ok",
     "timestamp": 1559531529329,
     "user": {
      "displayName": "Nikita Igolnikov",
      "photoUrl": "",
      "userId": "11245258636627725090"
     },
     "user_tz": -420
    },
    "id": "E6KmwLS8XIBP",
    "outputId": "bc60e6b8-6da5-4e68-a32f-4cd7415fad2b"
   },
   "outputs": [],
   "source": [
    "def main():\n",
    "    a, nodes_list, gra, words, G = inp_W()\n",
    "    while words != '0_S':\n",
    "        if a == '1':\n",
    "            sosedi(nodes_list, G)\n",
    "            #print('узлы', G.nodes())\n",
    "            #print('ребра', G.edges())\n",
    "            deg == deg(G)\n",
    "            clos == clos(G)\n",
    "            bet == bet(G)\n",
    "            eig == eig(G)\n",
    "            dia(G)\n",
    "            a1, a2, a3 = nodecolor(G)\n",
    "            style.use('ggplot') \n",
    "            pos=nx.spring_layout(G)\n",
    "            for i in G.nodes:\n",
    "                #print('i', i)\n",
    "                li = []\n",
    "                li.append(i)\n",
    "                nx.draw_networkx_nodes(G, pos, nodelist= li,\n",
    "                                       node_color=color(i, G),\n",
    "                                       node_size=size(i, G))\n",
    "            nx.draw_networkx_edges(G, pos, edge_color='yellow')\n",
    "            nx.draw_networkx_labels(G, pos,  font_size=15,\n",
    "                                    font_family='Arial')\n",
    "            plt.axis('off')\n",
    "            print ('параметры визуализации:')\n",
    "            print (' цвет узла показывает к какому сообществу относится слово')\n",
    "            print (' размер узла показывает насколько большой показатель degree_centrality')\n",
    "            print ('я строила граф для слова собака. граф разбит на сообщества по следующему принципу:')\n",
    "            print ('синим цветом - выделены \"домашние животные, красным - дикие, а желтым - породы собак\"')\n",
    "            print('число узлов: ', G.number_of_nodes())\n",
    "            print('число ребер: ', G.number_of_edges())\n",
    "            plt.show()\n",
    "\n",
    "            #list1, list2, list3 = node_list           \n",
    "            #print(list1, list2, list3)\n",
    "\n",
    "\n",
    "            a, nodes_list, gra, words, G = inp_W()\n",
    "        elif a == '2':\n",
    "            print('try again')\n",
    "            a, nodes_list, gra, words, G = inp_W()\n",
    "\n",
    "\n",
    "main()\n"
   ]
  },
  {
   "cell_type": "code",
   "execution_count": null,
   "metadata": {
    "colab": {},
    "colab_type": "code",
    "collapsed": true,
    "id": "vRYJkIZNXIBk"
   },
   "outputs": [],
   "source": []
  }
 ],
 "metadata": {
  "colab": {
   "collapsed_sections": [],
   "name": "Untitled3_1.ipynb",
   "provenance": [],
   "version": "0.3.2"
  },
  "kernelspec": {
   "display_name": "Python 3",
   "language": "python",
   "name": "python3"
  },
  "language_info": {
   "codemirror_mode": {
    "name": "ipython",
    "version": 3
   },
   "file_extension": ".py",
   "mimetype": "text/x-python",
   "name": "python",
   "nbconvert_exporter": "python",
   "pygments_lexer": "ipython3",
   "version": "3.5.6"
  }
 },
 "nbformat": 4,
 "nbformat_minor": 1
}
